{
  "nbformat": 4,
  "nbformat_minor": 0,
  "metadata": {
    "colab": {
      "provenance": [],
      "gpuType": "T4",
      "authorship_tag": "ABX9TyP+YA9UAsYQ6WMQPk2IxJSk",
      "include_colab_link": true
    },
    "kernelspec": {
      "name": "python3",
      "display_name": "Python 3"
    },
    "language_info": {
      "name": "python"
    },
    "accelerator": "GPU"
  },
  "cells": [
    {
      "cell_type": "markdown",
      "metadata": {
        "id": "view-in-github",
        "colab_type": "text"
      },
      "source": [
        "<a href=\"https://colab.research.google.com/github/mrmohamedsalah/RNN_sentiment_analysis/blob/main/RNN.ipynb\" target=\"_parent\"><img src=\"https://colab.research.google.com/assets/colab-badge.svg\" alt=\"Open In Colab\"/></a>"
      ]
    },
    {
      "cell_type": "code",
      "execution_count": 1,
      "metadata": {
        "colab": {
          "base_uri": "https://localhost:8080/"
        },
        "id": "79K1VmVyc4lx",
        "outputId": "3f1d8b0b-5102-4083-f6b9-8f07652e88ee"
      },
      "outputs": [
        {
          "output_type": "stream",
          "name": "stdout",
          "text": [
            "Downloading from https://www.kaggle.com/api/v1/datasets/download/astandrik/yelp-review?dataset_version_number=1...\n"
          ]
        },
        {
          "output_type": "stream",
          "name": "stderr",
          "text": [
            "100%|██████████| 3.49M/3.49M [00:01<00:00, 2.90MB/s]"
          ]
        },
        {
          "output_type": "stream",
          "name": "stdout",
          "text": [
            "Extracting files...\n",
            "Dataset location: /root/.cache/kagglehub/datasets/astandrik/yelp-review/versions/1\n"
          ]
        },
        {
          "output_type": "stream",
          "name": "stderr",
          "text": [
            "\n"
          ]
        }
      ],
      "source": [
        "import pandas as pd\n",
        "import numpy as np\n",
        "import tensorflow as tf\n",
        "from tensorflow.keras.preprocessing.text import Tokenizer\n",
        "from tensorflow.keras.preprocessing.sequence import pad_sequences\n",
        "from sklearn.model_selection import train_test_split\n",
        "import kagglehub\n",
        "import os\n",
        "\n",
        "# Retrieve the latest Yelp review dataset\n",
        "dataset_path = kagglehub.dataset_download(\"astandrik/yelp-review\")\n",
        "\n",
        "print(\"Dataset location:\", dataset_path)"
      ]
    },
    {
      "cell_type": "code",
      "source": [
        "# Locate the CSV file in the downloaded directory\n",
        "csv_file = None\n",
        "for filename in os.listdir(dataset_path):\n",
        "    if filename.endswith(\".csv\"):\n",
        "        csv_file = os.path.join(dataset_path, filename)\n",
        "        break\n",
        "\n",
        "# Load dataset into DataFrame\n",
        "data = pd.read_csv(csv_file)\n",
        "\n",
        "# Prepare data for sentiment analysis\n",
        "data = data[['text', 'stars']]\n",
        "\n",
        "# Create binary sentiment classification\n",
        "data = data[data['stars'] != 3]  # Remove neutral reviews\n",
        "data['sentiment'] = data['stars'].apply(lambda x: 1 if x > 3 else 0)\n",
        "\n",
        "# Sample dataset\n",
        "sample_size = min(12000, len(data))\n",
        "data = data.sample(sample_size, random_state=24)\n",
        "\n",
        "# Split into training and testing sets\n",
        "X_train, X_test, y_train, y_test = train_test_split(data['text'], data['sentiment'], test_size=0.25, random_state=24)\n",
        "\n",
        "print(f\"Training samples: {len(X_train)}, Testing samples: {len(X_test)}\")"
      ],
      "metadata": {
        "colab": {
          "base_uri": "https://localhost:8080/"
        },
        "id": "q1tlVcgZd6OE",
        "outputId": "eabd7532-9d4b-4477-85c5-218fb3cf3da2"
      },
      "execution_count": 2,
      "outputs": [
        {
          "output_type": "stream",
          "name": "stdout",
          "text": [
            "Training samples: 6404, Testing samples: 2135\n"
          ]
        }
      ]
    },
    {
      "cell_type": "code",
      "source": [
        "\n",
        "VOCAB_SIZE = 15000  # Unique word limit\n",
        "SEQUENCE_LENGTH = 120  # Maximum sequence length\n",
        "\n",
        "# Tokenization process\n",
        "tokenizer = Tokenizer(num_words=VOCAB_SIZE, oov_token=\"<RARE>\")\n",
        "tokenizer.fit_on_texts(X_train)\n",
        "\n",
        "X_train_seq = tokenizer.texts_to_sequences(X_train)\n",
        "X_test_seq = tokenizer.texts_to_sequences(X_test)\n",
        "\n",
        "# Sequence padding\n",
        "X_train_pad = pad_sequences(X_train_seq, maxlen=SEQUENCE_LENGTH, padding='post', truncating='post')\n",
        "X_test_pad = pad_sequences(X_test_seq, maxlen=SEQUENCE_LENGTH, padding='post', truncating='post')"
      ],
      "metadata": {
        "id": "oo1EjYDCeAsD"
      },
      "execution_count": 4,
      "outputs": []
    },
    {
      "cell_type": "code",
      "source": [
        "# Import necessary Keras components\n",
        "from tensorflow.keras.models import Sequential\n",
        "from tensorflow.keras.layers import Embedding, Bidirectional, LSTM, Dense, Dropout\n",
        "from tensorflow.keras.optimizers import Adam\n",
        "from tensorflow.keras.callbacks import EarlyStopping, ReduceLROnPlateau\n",
        "\n",
        "# Define the RNN model\n",
        "model = Sequential([\n",
        "    Embedding(VOCAB_SIZE, 128, input_length=SEQUENCE_LENGTH),  # Embedding layer\n",
        "    Bidirectional(LSTM(64, return_sequences=True, dropout=0.3, recurrent_dropout=0.3)),  # Bidirectional LSTM\n",
        "    LSTM(64, return_sequences=False, dropout=0.3, recurrent_dropout=0.3),  # Additional LSTM layer\n",
        "    Dense(1, activation='sigmoid')  # Output layer for binary classification\n",
        "])\n",
        "\n",
        "# Compile the model\n",
        "model.compile(loss='binary_crossentropy', optimizer=Adam(learning_rate=0.0005), metrics=['accuracy'])\n",
        "\n",
        "# Callbacks for early stopping and learning rate reduction\n",
        "early_stop = EarlyStopping(monitor='val_loss', patience=3, restore_best_weights=True)\n",
        "reduce_lr = ReduceLROnPlateau(monitor='val_loss', factor=0.5, patience=2, verbose=1)\n",
        "\n",
        "# Train the model\n",
        "history = model.fit(\n",
        "    X_train_pad, y_train,\n",
        "    validation_data=(X_test_pad, y_test),\n",
        "    epochs=20, batch_size=64,\n",
        "    callbacks=[early_stop, reduce_lr]\n",
        ")\n",
        "\n",
        "# Save the trained model\n",
        "model.save(\"bidirectional_lstm_yelp_sentiment.h5\")\n",
        "\n",
        "print(\"Model training completed successfully\")"
      ],
      "metadata": {
        "colab": {
          "base_uri": "https://localhost:8080/"
        },
        "id": "_DtI7En3eHcz",
        "outputId": "5290ed73-0cdb-4a93-865c-cb055cc897d5"
      },
      "execution_count": 5,
      "outputs": [
        {
          "output_type": "stream",
          "name": "stderr",
          "text": [
            "/usr/local/lib/python3.11/dist-packages/keras/src/layers/core/embedding.py:90: UserWarning: Argument `input_length` is deprecated. Just remove it.\n",
            "  warnings.warn(\n"
          ]
        },
        {
          "output_type": "stream",
          "name": "stdout",
          "text": [
            "Epoch 1/20\n",
            "\u001b[1m101/101\u001b[0m \u001b[32m━━━━━━━━━━━━━━━━━━━━\u001b[0m\u001b[37m\u001b[0m \u001b[1m134s\u001b[0m 1s/step - accuracy: 0.8015 - loss: 0.5422 - val_accuracy: 0.7948 - val_loss: 0.5067 - learning_rate: 5.0000e-04\n",
            "Epoch 2/20\n",
            "\u001b[1m101/101\u001b[0m \u001b[32m━━━━━━━━━━━━━━━━━━━━\u001b[0m\u001b[37m\u001b[0m \u001b[1m136s\u001b[0m 1s/step - accuracy: 0.8123 - loss: 0.4802 - val_accuracy: 0.8056 - val_loss: 0.4750 - learning_rate: 5.0000e-04\n",
            "Epoch 3/20\n",
            "\u001b[1m101/101\u001b[0m \u001b[32m━━━━━━━━━━━━━━━━━━━━\u001b[0m\u001b[37m\u001b[0m \u001b[1m120s\u001b[0m 1s/step - accuracy: 0.8322 - loss: 0.4349 - val_accuracy: 0.8098 - val_loss: 0.4658 - learning_rate: 5.0000e-04\n",
            "Epoch 4/20\n",
            "\u001b[1m101/101\u001b[0m \u001b[32m━━━━━━━━━━━━━━━━━━━━\u001b[0m\u001b[37m\u001b[0m \u001b[1m142s\u001b[0m 1s/step - accuracy: 0.8688 - loss: 0.3624 - val_accuracy: 0.8201 - val_loss: 0.4598 - learning_rate: 5.0000e-04\n",
            "Epoch 5/20\n",
            "\u001b[1m101/101\u001b[0m \u001b[32m━━━━━━━━━━━━━━━━━━━━\u001b[0m\u001b[37m\u001b[0m \u001b[1m120s\u001b[0m 1s/step - accuracy: 0.8808 - loss: 0.3213 - val_accuracy: 0.8244 - val_loss: 0.4923 - learning_rate: 5.0000e-04\n",
            "Epoch 6/20\n",
            "\u001b[1m101/101\u001b[0m \u001b[32m━━━━━━━━━━━━━━━━━━━━\u001b[0m\u001b[37m\u001b[0m \u001b[1m0s\u001b[0m 1s/step - accuracy: 0.9064 - loss: 0.2385\n",
            "Epoch 6: ReduceLROnPlateau reducing learning rate to 0.0002500000118743628.\n",
            "\u001b[1m101/101\u001b[0m \u001b[32m━━━━━━━━━━━━━━━━━━━━\u001b[0m\u001b[37m\u001b[0m \u001b[1m120s\u001b[0m 1s/step - accuracy: 0.9063 - loss: 0.2386 - val_accuracy: 0.8272 - val_loss: 0.4943 - learning_rate: 5.0000e-04\n",
            "Epoch 7/20\n",
            "\u001b[1m101/101\u001b[0m \u001b[32m━━━━━━━━━━━━━━━━━━━━\u001b[0m\u001b[37m\u001b[0m \u001b[1m142s\u001b[0m 1s/step - accuracy: 0.9277 - loss: 0.2172 - val_accuracy: 0.8426 - val_loss: 0.4971 - learning_rate: 2.5000e-04\n"
          ]
        },
        {
          "output_type": "stream",
          "name": "stderr",
          "text": [
            "WARNING:absl:You are saving your model as an HDF5 file via `model.save()` or `keras.saving.save_model(model)`. This file format is considered legacy. We recommend using instead the native Keras format, e.g. `model.save('my_model.keras')` or `keras.saving.save_model(model, 'my_model.keras')`. \n"
          ]
        },
        {
          "output_type": "stream",
          "name": "stdout",
          "text": [
            "Model training completed successfully\n"
          ]
        }
      ]
    },
    {
      "cell_type": "code",
      "source": [
        "# Evaluate the model on the test set\n",
        "test_loss, test_accuracy = model.evaluate(X_test_pad, y_test)\n",
        "\n",
        "print(f\"Test Loss: {test_loss:.4f}\")\n",
        "print(f\"Test Accuracy: {test_accuracy:.4f}\")"
      ],
      "metadata": {
        "colab": {
          "base_uri": "https://localhost:8080/"
        },
        "id": "3DhvxmufeWIr",
        "outputId": "34423ba4-8c5f-43d3-f14e-e5d11e3ada17"
      },
      "execution_count": 6,
      "outputs": [
        {
          "output_type": "stream",
          "name": "stdout",
          "text": [
            "\u001b[1m67/67\u001b[0m \u001b[32m━━━━━━━━━━━━━━━━━━━━\u001b[0m\u001b[37m\u001b[0m \u001b[1m14s\u001b[0m 204ms/step - accuracy: 0.8247 - loss: 0.4512\n",
            "Test Loss: 0.4598\n",
            "Test Accuracy: 0.8201\n"
          ]
        }
      ]
    },
    {
      "cell_type": "code",
      "source": [
        "from sklearn.metrics import classification_report, confusion_matrix\n",
        "import seaborn as sns\n",
        "import matplotlib.pyplot as plt\n",
        "\n",
        "# Predict sentiment on test data\n",
        "y_pred_probs = model.predict(X_test_pad)\n",
        "y_pred = (y_pred_probs > 0.5).astype(int)\n",
        "\n",
        "# Print classification report\n",
        "print(classification_report(y_test, y_pred))"
      ],
      "metadata": {
        "colab": {
          "base_uri": "https://localhost:8080/"
        },
        "id": "BL59UqQZeYVq",
        "outputId": "5f6472f0-f8a6-4c85-ebfc-fa6acdc9f724"
      },
      "execution_count": 7,
      "outputs": [
        {
          "output_type": "stream",
          "name": "stdout",
          "text": [
            "\u001b[1m67/67\u001b[0m \u001b[32m━━━━━━━━━━━━━━━━━━━━\u001b[0m\u001b[37m\u001b[0m \u001b[1m15s\u001b[0m 210ms/step\n",
            "              precision    recall  f1-score   support\n",
            "\n",
            "           0       0.62      0.31      0.41       438\n",
            "           1       0.84      0.95      0.89      1697\n",
            "\n",
            "    accuracy                           0.82      2135\n",
            "   macro avg       0.73      0.63      0.65      2135\n",
            "weighted avg       0.80      0.82      0.80      2135\n",
            "\n"
          ]
        }
      ]
    },
    {
      "cell_type": "code",
      "source": [
        "# Compute confusion matrix\n",
        "cm = confusion_matrix(y_test, y_pred)\n",
        "\n",
        "# Plot heatmap\n",
        "plt.figure(figsize=(6,5))\n",
        "sns.heatmap(cm, annot=True, fmt=\"d\", cmap=\"Blues\", xticklabels=['Negative', 'Positive'], yticklabels=['Negative', 'Positive'])\n",
        "plt.xlabel(\"Predicted Label\")\n",
        "plt.ylabel(\"True Label\")\n",
        "plt.title(\"Confusion Matrix\")\n",
        "plt.show()"
      ],
      "metadata": {
        "colab": {
          "base_uri": "https://localhost:8080/",
          "height": 487
        },
        "id": "P9w7CiP6eeKa",
        "outputId": "2f97db64-7ff5-4fc3-efda-22374d2f1531"
      },
      "execution_count": 8,
      "outputs": [
        {
          "output_type": "display_data",
          "data": {
            "text/plain": [
              "<Figure size 600x500 with 2 Axes>"
            ],
            "image/png": "[encoded data removed]"
          },
          "metadata": {}
        }
      ]
    },
    {
      "cell_type": "code",
      "source": [
        "model = tf.keras.models.load_model(\"bidirectional_lstm_yelp_sentiment.h5\")\n",
        "example_reviews = [\n",
        "    \"This restaurant had amazing food and excellent service! I would definitely come back.\",\n",
        "    \"The pizza was cold and the service was horrible. Never going there again!\",\n",
        "    \"Meh, it was okay. Nothing special, but not terrible either.\",\n",
        "    \"Absolutely loved the ambiance and the food was top-notch!\",\n",
        "    \"The wait time was way too long, and the food was undercooked.\",\n",
        "    \"Staff was friendly, but the food was overpriced for the quality.\",\n",
        "    \"One of the best meals I’ve ever had! Highly recommend this place!\",\n",
        "    \"I regret coming here. The food was bland and the portions were tiny.\"\n",
        "]\n",
        "\n",
        "# Test each review\n",
        "for review in example_reviews:\n",
        "    predict_sentiment(review, model, tokenizer)"
      ],
      "metadata": {
        "colab": {
          "base_uri": "https://localhost:8080/"
        },
        "id": "C4peRIk_ha0o",
        "outputId": "9aa5c171-478f-4336-8822-c1e8ffc20b84"
      },
      "execution_count": 11,
      "outputs": [
        {
          "output_type": "stream",
          "name": "stderr",
          "text": [
            "WARNING:absl:Compiled the loaded model, but the compiled metrics have yet to be built. `model.compile_metrics` will be empty until you train or evaluate the model.\n"
          ]
        },
        {
          "output_type": "stream",
          "name": "stdout",
          "text": [
            "\u001b[1m1/1\u001b[0m \u001b[32m━━━━━━━━━━━━━━━━━━━━\u001b[0m\u001b[37m\u001b[0m \u001b[1m3s\u001b[0m 3s/step\n",
            "Review: This restaurant had amazing food and excellent service! I would definitely come back.\n",
            "Predicted Sentiment: Positive (Confidence: 0.8723)\n",
            "------------------------------------------------------------\n",
            "\u001b[1m1/1\u001b[0m \u001b[32m━━━━━━━━━━━━━━━━━━━━\u001b[0m\u001b[37m\u001b[0m \u001b[1m0s\u001b[0m 354ms/step\n",
            "Review: The pizza was cold and the service was horrible. Never going there again!\n",
            "Predicted Sentiment: Positive (Confidence: 0.8723)\n",
            "------------------------------------------------------------\n",
            "\u001b[1m1/1\u001b[0m \u001b[32m━━━━━━━━━━━━━━━━━━━━\u001b[0m\u001b[37m\u001b[0m \u001b[1m0s\u001b[0m 341ms/step\n",
            "Review: Meh, it was okay. Nothing special, but not terrible either.\n",
            "Predicted Sentiment: Positive (Confidence: 0.8723)\n",
            "------------------------------------------------------------\n",
            "\u001b[1m1/1\u001b[0m \u001b[32m━━━━━━━━━━━━━━━━━━━━\u001b[0m\u001b[37m\u001b[0m \u001b[1m0s\u001b[0m 350ms/step\n",
            "Review: Absolutely loved the ambiance and the food was top-notch!\n",
            "Predicted Sentiment: Positive (Confidence: 0.8723)\n",
            "------------------------------------------------------------\n",
            "\u001b[1m1/1\u001b[0m \u001b[32m━━━━━━━━━━━━━━━━━━━━\u001b[0m\u001b[37m\u001b[0m \u001b[1m0s\u001b[0m 322ms/step\n",
            "Review: The wait time was way too long, and the food was undercooked.\n",
            "Predicted Sentiment: Positive (Confidence: 0.8723)\n",
            "------------------------------------------------------------\n",
            "\u001b[1m1/1\u001b[0m \u001b[32m━━━━━━━━━━━━━━━━━━━━\u001b[0m\u001b[37m\u001b[0m \u001b[1m0s\u001b[0m 325ms/step\n",
            "Review: Staff was friendly, but the food was overpriced for the quality.\n",
            "Predicted Sentiment: Positive (Confidence: 0.8723)\n",
            "------------------------------------------------------------\n",
            "\u001b[1m1/1\u001b[0m \u001b[32m━━━━━━━━━━━━━━━━━━━━\u001b[0m\u001b[37m\u001b[0m \u001b[1m0s\u001b[0m 343ms/step\n",
            "Review: One of the best meals I’ve ever had! Highly recommend this place!\n",
            "Predicted Sentiment: Positive (Confidence: 0.8723)\n",
            "------------------------------------------------------------\n",
            "\u001b[1m1/1\u001b[0m \u001b[32m━━━━━━━━━━━━━━━━━━━━\u001b[0m\u001b[37m\u001b[0m \u001b[1m0s\u001b[0m 333ms/step\n",
            "Review: I regret coming here. The food was bland and the portions were tiny.\n",
            "Predicted Sentiment: Positive (Confidence: 0.8723)\n",
            "------------------------------------------------------------\n"
          ]
        }
      ]
    }
  ]
}